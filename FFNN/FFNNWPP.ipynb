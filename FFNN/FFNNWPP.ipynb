{
  "cells": [
    {
      "cell_type": "code",
      "execution_count": null,
      "metadata": {
        "id": "MmfhxkfM9S6q"
      },
      "outputs": [],
      "source": [
        "import pandas as pd\n",
        "import numpy as np\n",
        "\n",
        "#url_data = (r\"https://raw.githubusercontent.com/conversationai/unhealthy-conversations/main/corpus/train.csv\")\n",
        "\n",
        "#data_csv = pd.read_csv(url_data)"
      ]
    },
    {
      "cell_type": "code",
      "execution_count": null,
      "metadata": {
        "id": "kXMDQXJ3BX3A"
      },
      "outputs": [],
      "source": [
        "#data_csv.head()"
      ]
    },
    {
      "cell_type": "code",
      "execution_count": null,
      "metadata": {
        "id": "NT6AepL6BX9Z"
      },
      "outputs": [],
      "source": [
        "url_data = (r\"https://raw.githubusercontent.com/conversationai/unhealthy-conversations/main/unhealthy_full.csv\")\n",
        "\n",
        "data_csv = pd.read_csv(url_data)"
      ]
    },
    {
      "cell_type": "code",
      "execution_count": null,
      "metadata": {
        "colab": {
          "base_uri": "https://localhost:8080/",
          "height": 206
        },
        "id": "LeCtp8vgBYAK",
        "outputId": "6371cd10-f051-4e78-e358-6eedb127a3d8"
      },
      "outputs": [
        {
          "output_type": "execute_result",
          "data": {
            "text/plain": [
              "     _unit_id                                            comment  _trust  \\\n",
              "0  2028122383  Moon, Do you *really* need it spelled out to you?  0.9333   \n",
              "1  2327208388  It means you can ask the values questions, but...  0.9348   \n",
              "2  1812167562                                    To you perhaps.  0.9929   \n",
              "3  2319155917  I don't want to put words in your mouth, but a...  0.9778   \n",
              "4  1812168807  perhaps this is not a problem seeing as how ev...  0.9145   \n",
              "\n",
              "   _worker_id  antagonize  condescending  dismissive  generalisation  \\\n",
              "0    44856405           0              0           0               0   \n",
              "1    45322411           0              0           0               1   \n",
              "2    44126774           0              0           0               0   \n",
              "3    45178195           0              0           0               0   \n",
              "4    44619566           0              0           0               0   \n",
              "\n",
              "   generalisation_unfair  healthy  hostile  sarcastic  \n",
              "0                    0.0        1        0          0  \n",
              "1                    1.0        0        0          0  \n",
              "2                    0.0        1        0          0  \n",
              "3                    0.0        1        0          0  \n",
              "4                    0.0        0        0          0  "
            ],
            "text/html": [
              "\n",
              "  <div id=\"df-bbee6768-3510-4604-906d-69a0c224fd19\">\n",
              "    <div class=\"colab-df-container\">\n",
              "      <div>\n",
              "<style scoped>\n",
              "    .dataframe tbody tr th:only-of-type {\n",
              "        vertical-align: middle;\n",
              "    }\n",
              "\n",
              "    .dataframe tbody tr th {\n",
              "        vertical-align: top;\n",
              "    }\n",
              "\n",
              "    .dataframe thead th {\n",
              "        text-align: right;\n",
              "    }\n",
              "</style>\n",
              "<table border=\"1\" class=\"dataframe\">\n",
              "  <thead>\n",
              "    <tr style=\"text-align: right;\">\n",
              "      <th></th>\n",
              "      <th>_unit_id</th>\n",
              "      <th>comment</th>\n",
              "      <th>_trust</th>\n",
              "      <th>_worker_id</th>\n",
              "      <th>antagonize</th>\n",
              "      <th>condescending</th>\n",
              "      <th>dismissive</th>\n",
              "      <th>generalisation</th>\n",
              "      <th>generalisation_unfair</th>\n",
              "      <th>healthy</th>\n",
              "      <th>hostile</th>\n",
              "      <th>sarcastic</th>\n",
              "    </tr>\n",
              "  </thead>\n",
              "  <tbody>\n",
              "    <tr>\n",
              "      <th>0</th>\n",
              "      <td>2028122383</td>\n",
              "      <td>Moon, Do you *really* need it spelled out to you?</td>\n",
              "      <td>0.9333</td>\n",
              "      <td>44856405</td>\n",
              "      <td>0</td>\n",
              "      <td>0</td>\n",
              "      <td>0</td>\n",
              "      <td>0</td>\n",
              "      <td>0.0</td>\n",
              "      <td>1</td>\n",
              "      <td>0</td>\n",
              "      <td>0</td>\n",
              "    </tr>\n",
              "    <tr>\n",
              "      <th>1</th>\n",
              "      <td>2327208388</td>\n",
              "      <td>It means you can ask the values questions, but...</td>\n",
              "      <td>0.9348</td>\n",
              "      <td>45322411</td>\n",
              "      <td>0</td>\n",
              "      <td>0</td>\n",
              "      <td>0</td>\n",
              "      <td>1</td>\n",
              "      <td>1.0</td>\n",
              "      <td>0</td>\n",
              "      <td>0</td>\n",
              "      <td>0</td>\n",
              "    </tr>\n",
              "    <tr>\n",
              "      <th>2</th>\n",
              "      <td>1812167562</td>\n",
              "      <td>To you perhaps.</td>\n",
              "      <td>0.9929</td>\n",
              "      <td>44126774</td>\n",
              "      <td>0</td>\n",
              "      <td>0</td>\n",
              "      <td>0</td>\n",
              "      <td>0</td>\n",
              "      <td>0.0</td>\n",
              "      <td>1</td>\n",
              "      <td>0</td>\n",
              "      <td>0</td>\n",
              "    </tr>\n",
              "    <tr>\n",
              "      <th>3</th>\n",
              "      <td>2319155917</td>\n",
              "      <td>I don't want to put words in your mouth, but a...</td>\n",
              "      <td>0.9778</td>\n",
              "      <td>45178195</td>\n",
              "      <td>0</td>\n",
              "      <td>0</td>\n",
              "      <td>0</td>\n",
              "      <td>0</td>\n",
              "      <td>0.0</td>\n",
              "      <td>1</td>\n",
              "      <td>0</td>\n",
              "      <td>0</td>\n",
              "    </tr>\n",
              "    <tr>\n",
              "      <th>4</th>\n",
              "      <td>1812168807</td>\n",
              "      <td>perhaps this is not a problem seeing as how ev...</td>\n",
              "      <td>0.9145</td>\n",
              "      <td>44619566</td>\n",
              "      <td>0</td>\n",
              "      <td>0</td>\n",
              "      <td>0</td>\n",
              "      <td>0</td>\n",
              "      <td>0.0</td>\n",
              "      <td>0</td>\n",
              "      <td>0</td>\n",
              "      <td>0</td>\n",
              "    </tr>\n",
              "  </tbody>\n",
              "</table>\n",
              "</div>\n",
              "      <button class=\"colab-df-convert\" onclick=\"convertToInteractive('df-bbee6768-3510-4604-906d-69a0c224fd19')\"\n",
              "              title=\"Convert this dataframe to an interactive table.\"\n",
              "              style=\"display:none;\">\n",
              "        \n",
              "  <svg xmlns=\"http://www.w3.org/2000/svg\" height=\"24px\"viewBox=\"0 0 24 24\"\n",
              "       width=\"24px\">\n",
              "    <path d=\"M0 0h24v24H0V0z\" fill=\"none\"/>\n",
              "    <path d=\"M18.56 5.44l.94 2.06.94-2.06 2.06-.94-2.06-.94-.94-2.06-.94 2.06-2.06.94zm-11 1L8.5 8.5l.94-2.06 2.06-.94-2.06-.94L8.5 2.5l-.94 2.06-2.06.94zm10 10l.94 2.06.94-2.06 2.06-.94-2.06-.94-.94-2.06-.94 2.06-2.06.94z\"/><path d=\"M17.41 7.96l-1.37-1.37c-.4-.4-.92-.59-1.43-.59-.52 0-1.04.2-1.43.59L10.3 9.45l-7.72 7.72c-.78.78-.78 2.05 0 2.83L4 21.41c.39.39.9.59 1.41.59.51 0 1.02-.2 1.41-.59l7.78-7.78 2.81-2.81c.8-.78.8-2.07 0-2.86zM5.41 20L4 18.59l7.72-7.72 1.47 1.35L5.41 20z\"/>\n",
              "  </svg>\n",
              "      </button>\n",
              "      \n",
              "  <style>\n",
              "    .colab-df-container {\n",
              "      display:flex;\n",
              "      flex-wrap:wrap;\n",
              "      gap: 12px;\n",
              "    }\n",
              "\n",
              "    .colab-df-convert {\n",
              "      background-color: #E8F0FE;\n",
              "      border: none;\n",
              "      border-radius: 50%;\n",
              "      cursor: pointer;\n",
              "      display: none;\n",
              "      fill: #1967D2;\n",
              "      height: 32px;\n",
              "      padding: 0 0 0 0;\n",
              "      width: 32px;\n",
              "    }\n",
              "\n",
              "    .colab-df-convert:hover {\n",
              "      background-color: #E2EBFA;\n",
              "      box-shadow: 0px 1px 2px rgba(60, 64, 67, 0.3), 0px 1px 3px 1px rgba(60, 64, 67, 0.15);\n",
              "      fill: #174EA6;\n",
              "    }\n",
              "\n",
              "    [theme=dark] .colab-df-convert {\n",
              "      background-color: #3B4455;\n",
              "      fill: #D2E3FC;\n",
              "    }\n",
              "\n",
              "    [theme=dark] .colab-df-convert:hover {\n",
              "      background-color: #434B5C;\n",
              "      box-shadow: 0px 1px 3px 1px rgba(0, 0, 0, 0.15);\n",
              "      filter: drop-shadow(0px 1px 2px rgba(0, 0, 0, 0.3));\n",
              "      fill: #FFFFFF;\n",
              "    }\n",
              "  </style>\n",
              "\n",
              "      <script>\n",
              "        const buttonEl =\n",
              "          document.querySelector('#df-bbee6768-3510-4604-906d-69a0c224fd19 button.colab-df-convert');\n",
              "        buttonEl.style.display =\n",
              "          google.colab.kernel.accessAllowed ? 'block' : 'none';\n",
              "\n",
              "        async function convertToInteractive(key) {\n",
              "          const element = document.querySelector('#df-bbee6768-3510-4604-906d-69a0c224fd19');\n",
              "          const dataTable =\n",
              "            await google.colab.kernel.invokeFunction('convertToInteractive',\n",
              "                                                     [key], {});\n",
              "          if (!dataTable) return;\n",
              "\n",
              "          const docLinkHtml = 'Like what you see? Visit the ' +\n",
              "            '<a target=\"_blank\" href=https://colab.research.google.com/notebooks/data_table.ipynb>data table notebook</a>'\n",
              "            + ' to learn more about interactive tables.';\n",
              "          element.innerHTML = '';\n",
              "          dataTable['output_type'] = 'display_data';\n",
              "          await google.colab.output.renderOutput(dataTable, element);\n",
              "          const docLink = document.createElement('div');\n",
              "          docLink.innerHTML = docLinkHtml;\n",
              "          element.appendChild(docLink);\n",
              "        }\n",
              "      </script>\n",
              "    </div>\n",
              "  </div>\n",
              "  "
            ]
          },
          "metadata": {},
          "execution_count": 56
        }
      ],
      "source": [
        "data_csv.head()"
      ]
    },
    {
      "cell_type": "code",
      "execution_count": null,
      "metadata": {
        "colab": {
          "base_uri": "https://localhost:8080/"
        },
        "id": "c7mQ2QVRBYCV",
        "outputId": "021b74ed-64ac-41f3-ea3f-d8c9040116d5"
      },
      "outputs": [
        {
          "output_type": "execute_result",
          "data": {
            "text/plain": [
              "(227975, 12)"
            ]
          },
          "metadata": {},
          "execution_count": 57
        }
      ],
      "source": [
        "data_csv.shape"
      ]
    },
    {
      "cell_type": "code",
      "execution_count": null,
      "metadata": {
        "colab": {
          "base_uri": "https://localhost:8080/"
        },
        "id": "_VyUo0Kw5p-L",
        "outputId": "673f403d-6f74-4f1a-cc89-59f45a4837e8"
      },
      "outputs": [
        {
          "output_type": "execute_result",
          "data": {
            "text/plain": [
              "0         Moon, Do you *really* need it spelled out to you?\n",
              "1         It means you can ask the values questions, but...\n",
              "2                                           To you perhaps.\n",
              "3         I don't want to put words in your mouth, but a...\n",
              "4         perhaps this is not a problem seeing as how ev...\n",
              "                                ...                        \n",
              "227970    In 2001 the price of oil was around $25 a barr...\n",
              "227971    How about answering the question asked rather ...\n",
              "227972    Re: 'he is not a war mugger' [sic]You seem to ...\n",
              "227973    At last someone trotting out facts instead of ...\n",
              "227974    why should I care what the catholic dinosaurs ...\n",
              "Name: comment, Length: 227975, dtype: object"
            ]
          },
          "metadata": {},
          "execution_count": 58
        }
      ],
      "source": [
        "data_csv[\"comment\"]"
      ]
    },
    {
      "cell_type": "code",
      "execution_count": null,
      "metadata": {
        "id": "nDc5Mt7R1o6v"
      },
      "outputs": [],
      "source": [
        "data_csv_drop=data_csv.drop_duplicates(subset=\"comment\")"
      ]
    },
    {
      "cell_type": "code",
      "execution_count": null,
      "metadata": {
        "colab": {
          "base_uri": "https://localhost:8080/"
        },
        "id": "2idkutuJ1ze-",
        "outputId": "58adddbd-759a-4169-c0f3-4a6b3c6f473b"
      },
      "outputs": [
        {
          "output_type": "execute_result",
          "data": {
            "text/plain": [
              "(44355, 12)"
            ]
          },
          "metadata": {},
          "execution_count": 60
        }
      ],
      "source": [
        "data_csv_drop.shape"
      ]
    },
    {
      "cell_type": "code",
      "execution_count": null,
      "metadata": {
        "colab": {
          "base_uri": "https://localhost:8080/"
        },
        "id": "MqqNcmOYpywO",
        "outputId": "3b2cb2e2-268a-4d91-dcea-248bb15edc4a"
      },
      "outputs": [
        {
          "output_type": "execute_result",
          "data": {
            "text/plain": [
              "(44354, 12)"
            ]
          },
          "metadata": {},
          "execution_count": 61
        }
      ],
      "source": [
        "data_cnull= data_csv_drop.dropna()\n",
        "data_cnull.shape"
      ]
    },
    {
      "cell_type": "code",
      "execution_count": null,
      "metadata": {
        "colab": {
          "base_uri": "https://localhost:8080/",
          "height": 206
        },
        "id": "yOs2LL6ot3dP",
        "outputId": "52a03c7d-b7ef-42b4-9a75-695904ce0a64"
      },
      "outputs": [
        {
          "output_type": "execute_result",
          "data": {
            "text/plain": [
              "     _unit_id                                            comment  _trust  \\\n",
              "0  2028122383  Moon, Do you *really* need it spelled out to you?  0.9333   \n",
              "1  2327208388  It means you can ask the values questions, but...  0.9348   \n",
              "2  1812167562                                    To you perhaps.  0.9929   \n",
              "3  2319155917  I don't want to put words in your mouth, but a...  0.9778   \n",
              "4  1812168807  perhaps this is not a problem seeing as how ev...  0.9145   \n",
              "\n",
              "   _worker_id  antagonize  condescending  dismissive  generalisation  \\\n",
              "0    44856405           0              0           0               0   \n",
              "1    45322411           0              0           0               1   \n",
              "2    44126774           0              0           0               0   \n",
              "3    45178195           0              0           0               0   \n",
              "4    44619566           0              0           0               0   \n",
              "\n",
              "   generalisation_unfair  healthy  hostile  sarcastic  \n",
              "0                    0.0        1        0          0  \n",
              "1                    1.0        0        0          0  \n",
              "2                    0.0        1        0          0  \n",
              "3                    0.0        1        0          0  \n",
              "4                    0.0        0        0          0  "
            ],
            "text/html": [
              "\n",
              "  <div id=\"df-d24f6556-f959-4165-93ca-238807c8b4c5\">\n",
              "    <div class=\"colab-df-container\">\n",
              "      <div>\n",
              "<style scoped>\n",
              "    .dataframe tbody tr th:only-of-type {\n",
              "        vertical-align: middle;\n",
              "    }\n",
              "\n",
              "    .dataframe tbody tr th {\n",
              "        vertical-align: top;\n",
              "    }\n",
              "\n",
              "    .dataframe thead th {\n",
              "        text-align: right;\n",
              "    }\n",
              "</style>\n",
              "<table border=\"1\" class=\"dataframe\">\n",
              "  <thead>\n",
              "    <tr style=\"text-align: right;\">\n",
              "      <th></th>\n",
              "      <th>_unit_id</th>\n",
              "      <th>comment</th>\n",
              "      <th>_trust</th>\n",
              "      <th>_worker_id</th>\n",
              "      <th>antagonize</th>\n",
              "      <th>condescending</th>\n",
              "      <th>dismissive</th>\n",
              "      <th>generalisation</th>\n",
              "      <th>generalisation_unfair</th>\n",
              "      <th>healthy</th>\n",
              "      <th>hostile</th>\n",
              "      <th>sarcastic</th>\n",
              "    </tr>\n",
              "  </thead>\n",
              "  <tbody>\n",
              "    <tr>\n",
              "      <th>0</th>\n",
              "      <td>2028122383</td>\n",
              "      <td>Moon, Do you *really* need it spelled out to you?</td>\n",
              "      <td>0.9333</td>\n",
              "      <td>44856405</td>\n",
              "      <td>0</td>\n",
              "      <td>0</td>\n",
              "      <td>0</td>\n",
              "      <td>0</td>\n",
              "      <td>0.0</td>\n",
              "      <td>1</td>\n",
              "      <td>0</td>\n",
              "      <td>0</td>\n",
              "    </tr>\n",
              "    <tr>\n",
              "      <th>1</th>\n",
              "      <td>2327208388</td>\n",
              "      <td>It means you can ask the values questions, but...</td>\n",
              "      <td>0.9348</td>\n",
              "      <td>45322411</td>\n",
              "      <td>0</td>\n",
              "      <td>0</td>\n",
              "      <td>0</td>\n",
              "      <td>1</td>\n",
              "      <td>1.0</td>\n",
              "      <td>0</td>\n",
              "      <td>0</td>\n",
              "      <td>0</td>\n",
              "    </tr>\n",
              "    <tr>\n",
              "      <th>2</th>\n",
              "      <td>1812167562</td>\n",
              "      <td>To you perhaps.</td>\n",
              "      <td>0.9929</td>\n",
              "      <td>44126774</td>\n",
              "      <td>0</td>\n",
              "      <td>0</td>\n",
              "      <td>0</td>\n",
              "      <td>0</td>\n",
              "      <td>0.0</td>\n",
              "      <td>1</td>\n",
              "      <td>0</td>\n",
              "      <td>0</td>\n",
              "    </tr>\n",
              "    <tr>\n",
              "      <th>3</th>\n",
              "      <td>2319155917</td>\n",
              "      <td>I don't want to put words in your mouth, but a...</td>\n",
              "      <td>0.9778</td>\n",
              "      <td>45178195</td>\n",
              "      <td>0</td>\n",
              "      <td>0</td>\n",
              "      <td>0</td>\n",
              "      <td>0</td>\n",
              "      <td>0.0</td>\n",
              "      <td>1</td>\n",
              "      <td>0</td>\n",
              "      <td>0</td>\n",
              "    </tr>\n",
              "    <tr>\n",
              "      <th>4</th>\n",
              "      <td>1812168807</td>\n",
              "      <td>perhaps this is not a problem seeing as how ev...</td>\n",
              "      <td>0.9145</td>\n",
              "      <td>44619566</td>\n",
              "      <td>0</td>\n",
              "      <td>0</td>\n",
              "      <td>0</td>\n",
              "      <td>0</td>\n",
              "      <td>0.0</td>\n",
              "      <td>0</td>\n",
              "      <td>0</td>\n",
              "      <td>0</td>\n",
              "    </tr>\n",
              "  </tbody>\n",
              "</table>\n",
              "</div>\n",
              "      <button class=\"colab-df-convert\" onclick=\"convertToInteractive('df-d24f6556-f959-4165-93ca-238807c8b4c5')\"\n",
              "              title=\"Convert this dataframe to an interactive table.\"\n",
              "              style=\"display:none;\">\n",
              "        \n",
              "  <svg xmlns=\"http://www.w3.org/2000/svg\" height=\"24px\"viewBox=\"0 0 24 24\"\n",
              "       width=\"24px\">\n",
              "    <path d=\"M0 0h24v24H0V0z\" fill=\"none\"/>\n",
              "    <path d=\"M18.56 5.44l.94 2.06.94-2.06 2.06-.94-2.06-.94-.94-2.06-.94 2.06-2.06.94zm-11 1L8.5 8.5l.94-2.06 2.06-.94-2.06-.94L8.5 2.5l-.94 2.06-2.06.94zm10 10l.94 2.06.94-2.06 2.06-.94-2.06-.94-.94-2.06-.94 2.06-2.06.94z\"/><path d=\"M17.41 7.96l-1.37-1.37c-.4-.4-.92-.59-1.43-.59-.52 0-1.04.2-1.43.59L10.3 9.45l-7.72 7.72c-.78.78-.78 2.05 0 2.83L4 21.41c.39.39.9.59 1.41.59.51 0 1.02-.2 1.41-.59l7.78-7.78 2.81-2.81c.8-.78.8-2.07 0-2.86zM5.41 20L4 18.59l7.72-7.72 1.47 1.35L5.41 20z\"/>\n",
              "  </svg>\n",
              "      </button>\n",
              "      \n",
              "  <style>\n",
              "    .colab-df-container {\n",
              "      display:flex;\n",
              "      flex-wrap:wrap;\n",
              "      gap: 12px;\n",
              "    }\n",
              "\n",
              "    .colab-df-convert {\n",
              "      background-color: #E8F0FE;\n",
              "      border: none;\n",
              "      border-radius: 50%;\n",
              "      cursor: pointer;\n",
              "      display: none;\n",
              "      fill: #1967D2;\n",
              "      height: 32px;\n",
              "      padding: 0 0 0 0;\n",
              "      width: 32px;\n",
              "    }\n",
              "\n",
              "    .colab-df-convert:hover {\n",
              "      background-color: #E2EBFA;\n",
              "      box-shadow: 0px 1px 2px rgba(60, 64, 67, 0.3), 0px 1px 3px 1px rgba(60, 64, 67, 0.15);\n",
              "      fill: #174EA6;\n",
              "    }\n",
              "\n",
              "    [theme=dark] .colab-df-convert {\n",
              "      background-color: #3B4455;\n",
              "      fill: #D2E3FC;\n",
              "    }\n",
              "\n",
              "    [theme=dark] .colab-df-convert:hover {\n",
              "      background-color: #434B5C;\n",
              "      box-shadow: 0px 1px 3px 1px rgba(0, 0, 0, 0.15);\n",
              "      filter: drop-shadow(0px 1px 2px rgba(0, 0, 0, 0.3));\n",
              "      fill: #FFFFFF;\n",
              "    }\n",
              "  </style>\n",
              "\n",
              "      <script>\n",
              "        const buttonEl =\n",
              "          document.querySelector('#df-d24f6556-f959-4165-93ca-238807c8b4c5 button.colab-df-convert');\n",
              "        buttonEl.style.display =\n",
              "          google.colab.kernel.accessAllowed ? 'block' : 'none';\n",
              "\n",
              "        async function convertToInteractive(key) {\n",
              "          const element = document.querySelector('#df-d24f6556-f959-4165-93ca-238807c8b4c5');\n",
              "          const dataTable =\n",
              "            await google.colab.kernel.invokeFunction('convertToInteractive',\n",
              "                                                     [key], {});\n",
              "          if (!dataTable) return;\n",
              "\n",
              "          const docLinkHtml = 'Like what you see? Visit the ' +\n",
              "            '<a target=\"_blank\" href=https://colab.research.google.com/notebooks/data_table.ipynb>data table notebook</a>'\n",
              "            + ' to learn more about interactive tables.';\n",
              "          element.innerHTML = '';\n",
              "          dataTable['output_type'] = 'display_data';\n",
              "          await google.colab.output.renderOutput(dataTable, element);\n",
              "          const docLink = document.createElement('div');\n",
              "          docLink.innerHTML = docLinkHtml;\n",
              "          element.appendChild(docLink);\n",
              "        }\n",
              "      </script>\n",
              "    </div>\n",
              "  </div>\n",
              "  "
            ]
          },
          "metadata": {},
          "execution_count": 62
        }
      ],
      "source": [
        "data_cnull.head()"
      ]
    },
    {
      "cell_type": "code",
      "execution_count": null,
      "metadata": {
        "colab": {
          "base_uri": "https://localhost:8080/"
        },
        "id": "IWvcOswmtkC1",
        "outputId": "e7c01b8e-1ffc-46af-be5d-4dff2b6264c7"
      },
      "outputs": [
        {
          "output_type": "execute_result",
          "data": {
            "text/plain": [
              "(42278, 12)"
            ]
          },
          "metadata": {},
          "execution_count": 63
        }
      ],
      "source": [
        "data_del_ind= data_cnull[(data_cnull[\"sarcastic\"]==0) & (data_cnull[\"healthy\"]==0) & (data_cnull[\"antagonize\"]==0) & (data_cnull[\"condescending\"]==0) & (data_cnull[\"dismissive\"]==0) & (data_cnull[\"hostile\"]==0)].index\n",
        "data_pnull = data_cnull.drop(data_del_ind)\n",
        "data_pnull.shape"
      ]
    },
    {
      "cell_type": "code",
      "execution_count": null,
      "metadata": {
        "colab": {
          "base_uri": "https://localhost:8080/"
        },
        "id": "OOdsHMpvzyrM",
        "outputId": "95656778-1e74-4aa4-9478-dee705c64697"
      },
      "outputs": [
        {
          "output_type": "stream",
          "name": "stderr",
          "text": [
            "<ipython-input-64-9fd0ced5066b>:1: UserWarning: Boolean Series key will be reindexed to match DataFrame index.\n",
            "  data_wnull_ind=data_pnull[((data_cnull[\"antagonize\"]==1) | (data_cnull[\"condescending\"]==1) | (data_cnull[\"dismissive\"]==1) | (data_cnull[\"hostile\"]==1)) & (data_cnull[\"healthy\"]==1)].index\n"
          ]
        },
        {
          "output_type": "execute_result",
          "data": {
            "text/plain": [
              "(39533, 12)"
            ]
          },
          "metadata": {},
          "execution_count": 64
        }
      ],
      "source": [
        "data_wnull_ind=data_pnull[((data_cnull[\"antagonize\"]==1) | (data_cnull[\"condescending\"]==1) | (data_cnull[\"dismissive\"]==1) | (data_cnull[\"hostile\"]==1)) & (data_cnull[\"healthy\"]==1)].index\n",
        "data_wnull = data_pnull.drop(data_wnull_ind)\n",
        "data_wnull.shape"
      ]
    },
    {
      "cell_type": "code",
      "execution_count": null,
      "metadata": {
        "colab": {
          "base_uri": "https://localhost:8080/"
        },
        "id": "X5g_K__T0wfa",
        "outputId": "f1227b8d-93a0-4375-dbbc-a2a4c256e203"
      },
      "outputs": [
        {
          "output_type": "stream",
          "name": "stdout",
          "text": [
            "(31626, 12) (7907, 12)\n"
          ]
        }
      ],
      "source": [
        "from sklearn.model_selection import train_test_split\n",
        "data_train, data_test= train_test_split(data_wnull, test_size=0.2, random_state=42)\n",
        "print(data_train.shape, data_test.shape)"
      ]
    },
    {
      "cell_type": "code",
      "execution_count": null,
      "metadata": {
        "id": "olJUcqUtzlbp"
      },
      "outputs": [],
      "source": [
        "# data_wnull[(data_wnull['sarcastic']==1) & (data_wnull['healthy']==0)]"
      ]
    },
    {
      "cell_type": "code",
      "execution_count": null,
      "metadata": {
        "id": "rlBcbpTktIjj"
      },
      "outputs": [],
      "source": [
        "# data_wnull[(data_wnull['sarcastic']==0) & (data_wnull['healthy']==0) & (data_wnull['antagonize']==0) & (data_wnull['condescending']==0) & (data_wnull['dismissive']==0) & (data_wnull['generalisation']==0) & (data_wnull['generalisation_unfair']==0) & (data_wnull['hostile']==0)]"
      ]
    },
    {
      "cell_type": "code",
      "execution_count": null,
      "metadata": {
        "id": "3OWD6fgwwu65"
      },
      "outputs": [],
      "source": [
        "# data_all= data_wnull.drop(data_wnull[(data_wnull['sarcastic']==0) & (data_wnull['healthy']==0) & (data_wnull['antagonize']==0) & (data_wnull['condescending']==0) & (data_wnull['dismissive']==0) & (data_wnull['generalisation']==0) & (data_wnull['generalisation_unfair']==0) & (data_wnull['hostile']==0)].index)\n",
        "# data_all.shape"
      ]
    },
    {
      "cell_type": "code",
      "execution_count": null,
      "metadata": {
        "colab": {
          "base_uri": "https://localhost:8080/"
        },
        "id": "pMgEKZzkNVe-",
        "outputId": "26122b42-a0a0-49c5-c96d-d2d21858202b"
      },
      "outputs": [
        {
          "output_type": "stream",
          "name": "stderr",
          "text": [
            "[nltk_data] Downloading collection 'popular'\n",
            "[nltk_data]    | \n",
            "[nltk_data]    | Downloading package cmudict to /root/nltk_data...\n",
            "[nltk_data]    |   Package cmudict is already up-to-date!\n",
            "[nltk_data]    | Downloading package gazetteers to /root/nltk_data...\n",
            "[nltk_data]    |   Package gazetteers is already up-to-date!\n",
            "[nltk_data]    | Downloading package genesis to /root/nltk_data...\n",
            "[nltk_data]    |   Package genesis is already up-to-date!\n",
            "[nltk_data]    | Downloading package gutenberg to /root/nltk_data...\n",
            "[nltk_data]    |   Package gutenberg is already up-to-date!\n",
            "[nltk_data]    | Downloading package inaugural to /root/nltk_data...\n",
            "[nltk_data]    |   Package inaugural is already up-to-date!\n",
            "[nltk_data]    | Downloading package movie_reviews to\n",
            "[nltk_data]    |     /root/nltk_data...\n",
            "[nltk_data]    |   Package movie_reviews is already up-to-date!\n",
            "[nltk_data]    | Downloading package names to /root/nltk_data...\n",
            "[nltk_data]    |   Package names is already up-to-date!\n",
            "[nltk_data]    | Downloading package shakespeare to /root/nltk_data...\n",
            "[nltk_data]    |   Package shakespeare is already up-to-date!\n",
            "[nltk_data]    | Downloading package stopwords to /root/nltk_data...\n",
            "[nltk_data]    |   Package stopwords is already up-to-date!\n",
            "[nltk_data]    | Downloading package treebank to /root/nltk_data...\n",
            "[nltk_data]    |   Package treebank is already up-to-date!\n",
            "[nltk_data]    | Downloading package twitter_samples to\n",
            "[nltk_data]    |     /root/nltk_data...\n",
            "[nltk_data]    |   Package twitter_samples is already up-to-date!\n",
            "[nltk_data]    | Downloading package omw to /root/nltk_data...\n",
            "[nltk_data]    |   Package omw is already up-to-date!\n",
            "[nltk_data]    | Downloading package omw-1.4 to /root/nltk_data...\n",
            "[nltk_data]    |   Package omw-1.4 is already up-to-date!\n",
            "[nltk_data]    | Downloading package wordnet to /root/nltk_data...\n",
            "[nltk_data]    |   Package wordnet is already up-to-date!\n",
            "[nltk_data]    | Downloading package wordnet2021 to /root/nltk_data...\n",
            "[nltk_data]    |   Package wordnet2021 is already up-to-date!\n",
            "[nltk_data]    | Downloading package wordnet31 to /root/nltk_data...\n",
            "[nltk_data]    |   Package wordnet31 is already up-to-date!\n",
            "[nltk_data]    | Downloading package wordnet_ic to /root/nltk_data...\n",
            "[nltk_data]    |   Package wordnet_ic is already up-to-date!\n",
            "[nltk_data]    | Downloading package words to /root/nltk_data...\n",
            "[nltk_data]    |   Package words is already up-to-date!\n",
            "[nltk_data]    | Downloading package maxent_ne_chunker to\n",
            "[nltk_data]    |     /root/nltk_data...\n",
            "[nltk_data]    |   Package maxent_ne_chunker is already up-to-date!\n",
            "[nltk_data]    | Downloading package punkt to /root/nltk_data...\n",
            "[nltk_data]    |   Package punkt is already up-to-date!\n",
            "[nltk_data]    | Downloading package snowball_data to\n",
            "[nltk_data]    |     /root/nltk_data...\n",
            "[nltk_data]    |   Package snowball_data is already up-to-date!\n",
            "[nltk_data]    | Downloading package averaged_perceptron_tagger to\n",
            "[nltk_data]    |     /root/nltk_data...\n",
            "[nltk_data]    |   Package averaged_perceptron_tagger is already up-\n",
            "[nltk_data]    |       to-date!\n",
            "[nltk_data]    | \n",
            "[nltk_data]  Done downloading collection popular\n"
          ]
        },
        {
          "output_type": "execute_result",
          "data": {
            "text/plain": [
              "True"
            ]
          },
          "metadata": {},
          "execution_count": 69
        }
      ],
      "source": [
        "import nltk\n",
        "\n",
        "nltk.download('popular')"
      ]
    },
    {
      "cell_type": "code",
      "execution_count": null,
      "metadata": {
        "colab": {
          "base_uri": "https://localhost:8080/"
        },
        "id": "3LTivuJ6Ltju",
        "outputId": "62a94185-b4a1-4598-c18f-2bd088718081"
      },
      "outputs": [
        {
          "output_type": "stream",
          "name": "stdout",
          "text": [
            "Loading data...\n",
            "Preprocessing train\n",
            "Preprocessing test\n"
          ]
        },
        {
          "output_type": "execute_result",
          "data": {
            "text/plain": [
              "[['i', 'upset', 'just', 'hoping', 'better', 'globe', 'mail'],\n",
              " ['i',\n",
              "  'understand',\n",
              "  'civil',\n",
              "  'servant',\n",
              "  'would',\n",
              "  'annoyed',\n",
              "  'raising',\n",
              "  'tfsa',\n",
              "  'limit',\n",
              "  'given',\n",
              "  'well',\n",
              "  'cared',\n",
              "  'retirement',\n",
              "  'but',\n",
              "  'us',\n",
              "  'dependent',\n",
              "  'investments',\n",
              "  'tfsas',\n",
              "  'godsend',\n",
              "  'please',\n",
              "  'raise',\n",
              "  'limit'],\n",
              " ['right', 'and', 'going', 'get', 'whole', 'lot', 'uglier'],\n",
              " ['but', 'first', 'you', 'serious'],\n",
              " ['call',\n",
              "  'thought',\n",
              "  'police',\n",
              "  'i',\n",
              "  'think',\n",
              "  'women',\n",
              "  'thinking',\n",
              "  'sex',\n",
              "  'selective',\n",
              "  'abortion',\n",
              "  'oh',\n",
              "  'wait',\n",
              "  'apparently',\n",
              "  'feel',\n",
              "  'additional',\n",
              "  'baby',\n",
              "  'may',\n",
              "  'stress',\n",
              "  'financially',\n",
              "  'carry']]"
            ]
          },
          "metadata": {},
          "execution_count": 70
        }
      ],
      "source": [
        "import pandas as pd\n",
        "import numpy as np\n",
        "import string\n",
        "import os\n",
        "from nltk.tokenize import word_tokenize\n",
        "from nltk.tokenize import RegexpTokenizer\n",
        "from nltk.corpus import stopwords\n",
        "stop_words = set(stopwords.words('english'))\n",
        "\n",
        "embed_size = 300\n",
        "max_features = 20000 \n",
        "maxlen = 300 \n",
        "\n",
        "print('Loading data...')\n",
        "\n",
        "classes = [\"sarcastic\", \"healthy\", \"antagonize\", \"condescending\", \"dismissive\", \"hostile\"]\n",
        "y = data_train[classes].values\n",
        "y_test = data_test[classes].values\n",
        "\n",
        "train_sentences = data_train[\"comment\"]\n",
        "test_sentences = data_test[\"comment\"]\n",
        "\n",
        "print('Preprocessing train') \n",
        "train = list()\n",
        "for i in train_sentences:\n",
        "    tokenizer = RegexpTokenizer(r'\\w+')#removing punctuations\n",
        "    train.append([i.lower() for i in (tokenizer.tokenize(str(i))) if i not in stop_words])\n",
        "\n",
        "print('Preprocessing test')\n",
        "test = list()\n",
        "for i in test_sentences:\n",
        "    tokenizer = RegexpTokenizer(r'\\w+')#removing punctuations\n",
        "    test.append([i.lower() for i in (tokenizer.tokenize(str(i))) if i not in stop_words])\n",
        "\n",
        "train[:5]"
      ]
    },
    {
      "cell_type": "code",
      "execution_count": null,
      "metadata": {
        "colab": {
          "base_uri": "https://localhost:8080/"
        },
        "id": "tnAgYv_Rh1tc",
        "outputId": "80ede814-7658-45d1-9020-644853fa9a0d"
      },
      "outputs": [
        {
          "output_type": "execute_result",
          "data": {
            "text/plain": [
              "31626"
            ]
          },
          "metadata": {},
          "execution_count": 71
        }
      ],
      "source": [
        "len(train_sentences)"
      ]
    },
    {
      "cell_type": "code",
      "execution_count": null,
      "metadata": {
        "colab": {
          "base_uri": "https://localhost:8080/"
        },
        "id": "oS7--RqfjBhm",
        "outputId": "595953c9-f4f8-4c51-9944-8665cb986312"
      },
      "outputs": [
        {
          "output_type": "execute_result",
          "data": {
            "text/plain": [
              "7907"
            ]
          },
          "metadata": {},
          "execution_count": 72
        }
      ],
      "source": [
        "len(test_sentences)"
      ]
    },
    {
      "cell_type": "code",
      "execution_count": null,
      "metadata": {
        "colab": {
          "base_uri": "https://localhost:8080/"
        },
        "id": "L7Q4DB-pmVOX",
        "outputId": "96b52cac-93b8-4c8e-e5c7-fcb00ff99c26"
      },
      "outputs": [
        {
          "output_type": "stream",
          "name": "stdout",
          "text": [
            "Drive already mounted at /content/drive; to attempt to forcibly remount, call drive.mount(\"/content/drive\", force_remount=True).\n"
          ]
        }
      ],
      "source": [
        "from google.colab import drive\n",
        "drive.mount('/content/drive')\n",
        "EMBEDDING_FILE = '/content/drive/My Drive/glove.840B.300d.txt' "
      ]
    },
    {
      "cell_type": "code",
      "execution_count": null,
      "metadata": {
        "id": "g-a2OOXgzZ8A"
      },
      "outputs": [],
      "source": [
        "import tensorflow"
      ]
    },
    {
      "cell_type": "code",
      "execution_count": null,
      "metadata": {
        "id": "g8yG4oc_zKiz"
      },
      "outputs": [],
      "source": [
        "from keras.models import Sequential\n",
        "from keras.layers import Flatten, Dense, Dropout, Input, Embedding\n",
        "from keras.layers import Conv1D, GlobalMaxPooling1D, MaxPooling1D, BatchNormalization, SpatialDropout1D, GlobalAveragePooling1D, concatenate, Activation, LSTM, Bidirectional\n",
        "from keras import initializers, regularizers, constraints, optimizers, layers, callbacks\n",
        "from keras.models import Model\n",
        "from keras.optimizers import Adam\n",
        "from keras.callbacks import EarlyStopping, ModelCheckpoint\n",
        "from tensorflow.keras.preprocessing.text import Tokenizer\n",
        "from tensorflow.keras.preprocessing.sequence import pad_sequences\n",
        "from tensorflow.keras.models import load_model\n",
        "from sklearn.model_selection import StratifiedKFold, cross_val_score, KFold\n",
        "from sklearn.metrics import accuracy_score, roc_auc_score, classification_report, multilabel_confusion_matrix"
      ]
    },
    {
      "cell_type": "code",
      "execution_count": null,
      "metadata": {
        "colab": {
          "base_uri": "https://localhost:8080/"
        },
        "id": "jUdkl7HP0J9x",
        "outputId": "ea60ca89-6c93-4c6b-bc21-31cbf19e5e2e"
      },
      "outputs": [
        {
          "output_type": "stream",
          "name": "stdout",
          "text": [
            "[(',', array([-0.082752 ,  0.67204  , -0.14987  , -0.064983 ,  0.056491 ,\n",
            "        0.40228  ,  0.0027747, -0.3311   , -0.30691  ,  2.0817   ,\n",
            "        0.031819 ,  0.013643 ,  0.30265  ,  0.0071297, -0.5819   ,\n",
            "       -0.2774   , -0.062254 ,  1.1451   , -0.24232  ,  0.1235   ,\n",
            "       -0.12243  ,  0.33152  , -0.006162 , -0.30541  , -0.13057  ,\n",
            "       -0.054601 ,  0.037083 , -0.070552 ,  0.5893   , -0.30385  ,\n",
            "        0.2898   , -0.14653  , -0.27052  ,  0.37161  ,  0.32031  ,\n",
            "       -0.29125  ,  0.0052483, -0.13212  , -0.052736 ,  0.087349 ,\n",
            "       -0.26668  , -0.16897  ,  0.015162 , -0.0083746, -0.14871  ,\n",
            "        0.23413  , -0.20719  , -0.091386 ,  0.40075  , -0.17223  ,\n",
            "        0.18145  ,  0.37586  , -0.28682  ,  0.37289  , -0.16185  ,\n",
            "        0.18008  ,  0.3032   , -0.13216  ,  0.18352  ,  0.095759 ,\n",
            "        0.094916 ,  0.008289 ,  0.11761  ,  0.34046  ,  0.03677  ,\n",
            "       -0.29077  ,  0.058303 , -0.027814 ,  0.082941 ,  0.1862   ,\n",
            "       -0.031494 ,  0.27985  , -0.074412 , -0.13762  , -0.21866  ,\n",
            "        0.18138  ,  0.040855 , -0.113    ,  0.24107  ,  0.3657   ,\n",
            "       -0.27525  , -0.05684  ,  0.34872  ,  0.011884 ,  0.14517  ,\n",
            "       -0.71395  ,  0.48497  ,  0.14807  ,  0.62287  ,  0.20599  ,\n",
            "        0.58379  , -0.13438  ,  0.40207  ,  0.18311  ,  0.28021  ,\n",
            "       -0.42349  , -0.25626  ,  0.17715  , -0.54095  ,  0.16596  ,\n",
            "       -0.036058 ,  0.08499  , -0.64989  ,  0.075549 , -0.28831  ,\n",
            "        0.40626  , -0.2802   ,  0.094062 ,  0.32406  ,  0.28437  ,\n",
            "       -0.26341  ,  0.11553  ,  0.071918 , -0.47215  , -0.18366  ,\n",
            "       -0.34709  ,  0.29964  , -0.66514  ,  0.002516 , -0.42333  ,\n",
            "        0.27512  ,  0.36012  ,  0.16311  ,  0.23964  , -0.05923  ,\n",
            "        0.3261   ,  0.20559  ,  0.038677 , -0.045816 ,  0.089764 ,\n",
            "        0.43151  , -0.15954  ,  0.08532  , -0.26572  , -0.15001  ,\n",
            "        0.084286 , -0.16714  , -0.43004  ,  0.060807 ,  0.13121  ,\n",
            "       -0.24112  ,  0.66554  ,  0.4453   , -0.18019  , -0.13919  ,\n",
            "        0.56252  ,  0.21457  , -0.46443  , -0.012211 ,  0.029988 ,\n",
            "       -0.051094 , -0.20135  ,  0.80788  ,  0.47377  , -0.057647 ,\n",
            "        0.46216  ,  0.16084  , -0.20954  , -0.05452  ,  0.15572  ,\n",
            "       -0.13712  ,  0.12972  , -0.011936 , -0.003378 , -0.13595  ,\n",
            "       -0.080711 ,  0.20065  ,  0.054056 ,  0.046816 ,  0.059539 ,\n",
            "        0.046265 ,  0.17754  , -0.31094  ,  0.28119  , -0.24355  ,\n",
            "        0.085252 , -0.21011  , -0.19472  ,  0.0027297, -0.46341  ,\n",
            "        0.14789  , -0.31517  , -0.065939 ,  0.036106 ,  0.42903  ,\n",
            "       -0.33759  ,  0.16432  ,  0.32568  , -0.050392 , -0.054297 ,\n",
            "        0.24074  ,  0.41923  ,  0.13012  , -0.17167  , -0.37808  ,\n",
            "       -0.23089  , -0.019477 , -0.29291  , -0.30824  ,  0.30297  ,\n",
            "       -0.22659  ,  0.081574 , -0.18516  , -0.21408  ,  0.40616  ,\n",
            "       -0.28974  ,  0.074174 , -0.17795  ,  0.28595  , -0.039626 ,\n",
            "       -0.2339   , -0.36054  , -0.067503 , -0.091065 ,  0.23438  ,\n",
            "       -0.0041331,  0.003232 ,  0.0072134,  0.008697 ,  0.21614  ,\n",
            "        0.049904 ,  0.35582  ,  0.13748  ,  0.073361 ,  0.14166  ,\n",
            "        0.2412   , -0.013322 ,  0.15613  ,  0.083381 ,  0.088146 ,\n",
            "       -0.019357 ,  0.43795  ,  0.083961 ,  0.45309  , -0.50489  ,\n",
            "       -0.10865  , -0.2527   , -0.18251  ,  0.20441  ,  0.13319  ,\n",
            "        0.1294   ,  0.050594 , -0.15612  , -0.39543  ,  0.12538  ,\n",
            "        0.24881  , -0.1927   , -0.31847  , -0.12719  ,  0.4341   ,\n",
            "        0.31177  , -0.0040946, -0.2094   , -0.079961 ,  0.1161   ,\n",
            "       -0.050794 ,  0.015266 , -0.2803   , -0.12486  ,  0.23587  ,\n",
            "        0.2339   , -0.14023  ,  0.028462 ,  0.56923  , -0.1649   ,\n",
            "       -0.036429 ,  0.010051 , -0.17107  , -0.042608 ,  0.044965 ,\n",
            "       -0.4393   , -0.26137  ,  0.30088  , -0.060772 , -0.45312  ,\n",
            "       -0.19076  , -0.20288  ,  0.27694  , -0.060888 ,  0.11944  ,\n",
            "        0.62206  , -0.19343  ,  0.47849  , -0.30113  ,  0.059389 ,\n",
            "        0.074901 ,  0.061068 , -0.4662   ,  0.40054  , -0.19099  ,\n",
            "       -0.14331  ,  0.018267 , -0.18643  ,  0.20709  , -0.35598  ,\n",
            "        0.05338  , -0.050821 , -0.1918   , -0.37846  , -0.06589  ],\n",
            "      dtype=float32)), ('.', array([ 0.012001 ,  0.20751  , -0.12578  , -0.59325  ,  0.12525  ,\n",
            "        0.15975  ,  0.13748  , -0.33157  , -0.13694  ,  1.7893   ,\n",
            "       -0.47094  ,  0.70434  ,  0.26673  , -0.089961 , -0.18168  ,\n",
            "        0.067226 ,  0.053347 ,  1.5595   , -0.2541   ,  0.038413 ,\n",
            "       -0.01409  ,  0.056774 ,  0.023434 ,  0.024042 ,  0.31703  ,\n",
            "        0.19025  , -0.37505  ,  0.035603 ,  0.1181   ,  0.012032 ,\n",
            "       -0.037566 , -0.5046   , -0.049261 ,  0.092351 ,  0.11031  ,\n",
            "       -0.073062 ,  0.33994  ,  0.28239  ,  0.13413  ,  0.070128 ,\n",
            "       -0.022099 , -0.28103  ,  0.49607  , -0.48693  , -0.090964 ,\n",
            "       -0.1538   , -0.38011  , -0.014228 , -0.19392  , -0.11068  ,\n",
            "       -0.014088 , -0.17906  ,  0.24509  , -0.16878  , -0.15351  ,\n",
            "       -0.13808  ,  0.02151  ,  0.13699  ,  0.0068061, -0.14915  ,\n",
            "       -0.38169  ,  0.12727  ,  0.44007  ,  0.32678  , -0.46117  ,\n",
            "        0.068687 ,  0.34747  ,  0.18827  , -0.31837  ,  0.4447   ,\n",
            "       -0.2095   , -0.26987  ,  0.48945  ,  0.15388  ,  0.05295  ,\n",
            "       -0.049831 ,  0.11207  ,  0.14881  , -0.37003  ,  0.30777  ,\n",
            "       -0.33865  ,  0.045149 , -0.18987  ,  0.26634  , -0.26401  ,\n",
            "       -0.47556  ,  0.68381  , -0.30653  ,  0.24606  ,  0.31611  ,\n",
            "       -0.071098 ,  0.030417 ,  0.088119 ,  0.045025 ,  0.20125  ,\n",
            "       -0.21618  , -0.36371  , -0.25948  , -0.42398  , -0.14305  ,\n",
            "       -0.10208  ,  0.21498  , -0.21924  , -0.17935  ,  0.21546  ,\n",
            "        0.13801  ,  0.24504  , -0.2559   ,  0.054815 ,  0.21307  ,\n",
            "        0.2564   , -0.25673  ,  0.17961  , -0.47638  , -0.25181  ,\n",
            "       -0.0091498, -0.054362 , -0.21007  ,  0.12597  , -0.40795  ,\n",
            "       -0.021164 ,  0.20585  ,  0.18925  , -0.0051896, -0.51394  ,\n",
            "        0.28862  , -0.077748 , -0.27676  ,  0.46567  , -0.14225  ,\n",
            "       -0.17879  , -0.4357   , -0.32481  ,  0.15034  , -0.058367 ,\n",
            "        0.49652  ,  0.20472  ,  0.019866 ,  0.13326  ,  0.12823  ,\n",
            "       -1.0177   ,  0.29007  ,  0.28995  ,  0.029994 , -0.10763  ,\n",
            "        0.28665  , -0.24387  ,  0.22905  , -0.26249  , -0.069269 ,\n",
            "       -0.17889  ,  0.21936  ,  0.15146  ,  0.04567  , -0.050497 ,\n",
            "        0.071482 , -0.1027   , -0.080705 ,  0.30296  ,  0.031302 ,\n",
            "        0.26613  , -0.0060951,  0.10313  , -0.39987  , -0.043945 ,\n",
            "       -0.057625 ,  0.08702  , -0.098152 ,  0.22835  , -0.005211 ,\n",
            "        0.038075 ,  0.01591  , -0.20622  ,  0.021853 ,  0.0040426,\n",
            "       -0.043063 , -0.002294 , -0.26097  , -0.25802  , -0.28158  ,\n",
            "       -0.23118  , -0.010404 , -0.30102  , -0.4042   ,  0.014653 ,\n",
            "       -0.10445  ,  0.30377  , -0.20957  ,  0.3119   ,  0.068272 ,\n",
            "        0.1008   ,  0.010423 ,  0.54011  ,  0.29865  ,  0.12653  ,\n",
            "        0.013761 ,  0.21738  , -0.39521  ,  0.066633 ,  0.50327  ,\n",
            "        0.14913  , -0.11554  ,  0.010042 ,  0.095698 ,  0.16607  ,\n",
            "       -0.18808  ,  0.055019 ,  0.026715 , -0.3164   , -0.046583 ,\n",
            "       -0.051591 ,  0.023475 , -0.11007  ,  0.085642 ,  0.28394  ,\n",
            "        0.040497 ,  0.071986 ,  0.14157  , -0.021199 ,  0.44718  ,\n",
            "        0.20088  , -0.12964  , -0.067183 ,  0.47614  ,  0.13394  ,\n",
            "       -0.17287  , -0.37324  , -0.17285  ,  0.02683  , -0.1316   ,\n",
            "        0.09116  , -0.46487  ,  0.1274   , -0.090159 , -0.10552  ,\n",
            "        0.068006 , -0.13381  ,  0.17056  ,  0.089509 , -0.23133  ,\n",
            "       -0.27572  ,  0.061534 , -0.051646 ,  0.28377  ,  0.25286  ,\n",
            "       -0.24139  , -0.19905  ,  0.12049  , -0.1011   ,  0.27392  ,\n",
            "        0.27843  ,  0.26449  , -0.18292  , -0.048961 ,  0.19198  ,\n",
            "        0.17192  ,  0.33659  , -0.20184  , -0.34305  , -0.24553  ,\n",
            "       -0.15399  ,  0.3945   ,  0.22839  , -0.25753  , -0.25675  ,\n",
            "       -0.37332  , -0.23884  , -0.048816 ,  0.78323  ,  0.18851  ,\n",
            "       -0.26477  ,  0.096566 ,  0.062658 , -0.30668  , -0.43334  ,\n",
            "        0.10006  ,  0.21136  ,  0.039459 , -0.11077  ,  0.24421  ,\n",
            "        0.60942  , -0.46646  ,  0.086385 , -0.39702  , -0.23363  ,\n",
            "        0.021307 , -0.10778  , -0.2281   ,  0.50803  ,  0.11567  ,\n",
            "        0.16165  , -0.066737 , -0.29556  ,  0.022612 , -0.28135  ,\n",
            "        0.0635   ,  0.14019  ,  0.13871  , -0.36049  , -0.035    ],\n",
            "      dtype=float32)), ('the', array([ 2.7204e-01, -6.2030e-02, -1.8840e-01,  2.3225e-02, -1.8158e-02,\n",
            "        6.7192e-03, -1.3877e-01,  1.7708e-01,  1.7709e-01,  2.5882e+00,\n",
            "       -3.5179e-01, -1.7312e-01,  4.3285e-01, -1.0708e-01,  1.5006e-01,\n",
            "       -1.9982e-01, -1.9093e-01,  1.1871e+00, -1.6207e-01, -2.3538e-01,\n",
            "        3.6640e-03, -1.9156e-01, -8.5662e-02,  3.9199e-02, -6.6449e-02,\n",
            "       -4.2090e-02, -1.9122e-01,  1.1679e-02, -3.7138e-01,  2.1886e-01,\n",
            "        1.1423e-03,  4.3190e-01, -1.4205e-01,  3.8059e-01,  3.0654e-01,\n",
            "        2.0167e-02, -1.8316e-01, -6.5186e-03, -8.0549e-03, -1.2063e-01,\n",
            "        2.7507e-02,  2.9839e-01, -2.2896e-01, -2.2882e-01,  1.4671e-01,\n",
            "       -7.6301e-02, -1.2680e-01, -6.6651e-03, -5.2795e-02,  1.4258e-01,\n",
            "        1.5610e-01,  5.5510e-02, -1.6149e-01,  9.6290e-02, -7.6533e-02,\n",
            "       -4.9971e-02, -1.0195e-02, -4.7641e-02, -1.6679e-01, -2.3940e-01,\n",
            "        5.0141e-03, -4.9175e-02,  1.3338e-02,  4.1923e-01, -1.0104e-01,\n",
            "        1.5111e-02, -7.7706e-02, -1.3471e-01,  1.1900e-01,  1.0802e-01,\n",
            "        2.1061e-01, -5.1904e-02,  1.8527e-01,  1.7856e-01,  4.1293e-02,\n",
            "       -1.4385e-02, -8.2567e-02, -3.5483e-02, -7.6173e-02, -4.5367e-02,\n",
            "        8.9281e-02,  3.3672e-01, -2.2099e-01, -6.7275e-03,  2.3983e-01,\n",
            "       -2.3147e-01, -8.8592e-01,  9.1297e-02, -1.2123e-02,  1.3233e-02,\n",
            "       -2.5799e-01, -2.9720e-02,  1.6754e-02,  1.3690e-02,  3.2377e-01,\n",
            "        3.9546e-02,  4.2114e-02, -8.8243e-02,  3.0318e-01,  8.7747e-02,\n",
            "        1.6346e-01, -4.0485e-01, -4.3845e-02, -4.0697e-02,  2.0936e-01,\n",
            "       -7.7795e-01,  2.9970e-01,  2.3340e-01,  1.4891e-01, -3.9037e-01,\n",
            "       -5.3086e-02,  6.2922e-02,  6.5663e-02, -1.3906e-01,  9.4193e-02,\n",
            "        1.0344e-01, -2.7970e-01,  2.8905e-01, -3.2161e-01,  2.0687e-02,\n",
            "        6.3254e-02, -2.3257e-01, -4.3520e-01, -1.7049e-02, -3.2744e-01,\n",
            "       -4.7064e-02, -7.5149e-02, -1.8788e-01, -1.5017e-02,  2.9342e-02,\n",
            "       -3.5270e-01, -4.4278e-02, -1.3507e-01, -1.1644e-01, -1.0430e-01,\n",
            "        1.3920e-01,  3.9199e-03,  3.7603e-01,  6.7217e-02, -3.7992e-01,\n",
            "       -1.1241e+00, -5.7357e-02, -1.6826e-01,  3.9410e-02,  2.6040e-01,\n",
            "       -2.3866e-02,  1.7963e-01,  1.3553e-01,  2.1390e-01,  5.2633e-02,\n",
            "       -2.5033e-01, -1.1307e-01,  2.2234e-01,  6.6597e-02, -1.1161e-01,\n",
            "        6.2438e-02, -2.7972e-01,  1.9878e-01, -3.6262e-01, -1.0006e-05,\n",
            "       -1.7262e-01,  2.9166e-01, -1.5723e-01,  5.4295e-02,  6.1010e-02,\n",
            "       -3.9165e-01,  2.7660e-01,  5.7816e-02,  3.9709e-01,  2.5229e-02,\n",
            "        2.4672e-01, -8.9050e-02,  1.5683e-01, -2.0960e-01, -2.2196e-01,\n",
            "        5.2394e-02, -1.1360e-02,  5.0417e-02, -1.4023e-01, -4.2825e-02,\n",
            "       -3.1931e-02, -2.1336e-01, -2.0402e-01, -2.3272e-01,  7.4490e-02,\n",
            "        8.8202e-02, -1.1063e-01, -3.3526e-01, -1.4028e-02, -2.9429e-01,\n",
            "       -8.6911e-02, -1.3210e-01, -4.3616e-01,  2.0513e-01,  7.9362e-03,\n",
            "        4.8505e-01,  6.4237e-02,  1.4261e-01, -4.3711e-01,  1.2783e-01,\n",
            "       -1.3111e-01,  2.4673e-01, -2.7496e-01,  1.5896e-01,  4.3314e-01,\n",
            "        9.0286e-02,  2.4662e-01,  6.6463e-02, -2.0099e-01,  1.1010e-01,\n",
            "        3.6440e-02,  1.7359e-01, -1.5689e-01, -8.6328e-02, -1.7316e-01,\n",
            "        3.6975e-01, -4.0317e-01, -6.4814e-02, -3.4166e-02, -1.3773e-02,\n",
            "        6.2854e-02, -1.7183e-01, -1.2366e-01, -3.4663e-02, -2.2793e-01,\n",
            "       -2.3172e-01,  2.3900e-01,  2.7473e-01,  1.5332e-01,  1.0661e-01,\n",
            "       -6.0982e-02, -2.4805e-02, -1.3478e-01,  1.7932e-01, -3.7374e-01,\n",
            "       -2.8930e-02, -1.1142e-01, -8.3890e-02, -5.5932e-02,  6.8039e-02,\n",
            "       -1.0783e-01,  1.4650e-01,  9.4617e-02, -8.4554e-02,  6.7429e-02,\n",
            "       -3.2910e-01,  3.4082e-02, -1.6747e-01, -2.5997e-01, -2.2917e-01,\n",
            "        2.0159e-02, -2.7580e-02,  1.6136e-01, -1.8538e-01,  3.7665e-02,\n",
            "        5.7603e-01,  2.0684e-01,  2.7941e-01,  1.6477e-01, -1.8769e-02,\n",
            "        1.2062e-01,  6.9648e-02,  5.9022e-02, -2.3154e-01,  2.4095e-01,\n",
            "       -3.4710e-01,  4.8540e-02, -5.6502e-02,  4.1566e-01, -4.3194e-01,\n",
            "        4.8230e-01, -5.1759e-02, -2.7285e-01, -2.5893e-01,  1.6555e-01,\n",
            "       -1.8310e-01, -6.7340e-02,  4.2457e-01,  1.0346e-02,  1.4237e-01,\n",
            "        2.5939e-01,  1.7123e-01, -1.3821e-01, -6.6846e-02,  1.5981e-02,\n",
            "       -3.0193e-01,  4.3579e-02, -4.3102e-02,  3.5025e-01, -1.9681e-01,\n",
            "       -4.2810e-01,  1.6899e-01,  2.2511e-01, -2.8557e-01, -1.0280e-01,\n",
            "       -1.8168e-02,  1.1407e-01,  1.3015e-01, -1.8317e-01,  1.3230e-01],\n",
            "      dtype=float32)), ('and', array([-1.8567e-01,  6.6008e-02, -2.5209e-01, -1.1725e-01,  2.6513e-01,\n",
            "        6.4908e-02,  1.2291e-01, -9.3979e-02,  2.4321e-02,  2.4926e+00,\n",
            "       -1.7916e-02, -7.1218e-02, -2.4782e-01, -2.6237e-01, -2.2460e-01,\n",
            "       -2.1961e-01, -1.2927e-01,  1.0867e+00, -6.6072e-01, -3.1617e-02,\n",
            "       -5.7328e-02,  5.6903e-02, -2.7939e-01, -3.9825e-01,  1.4251e-01,\n",
            "       -8.5146e-02, -1.4779e-01,  5.5067e-02, -2.8687e-03, -2.0917e-01,\n",
            "       -7.0735e-02,  2.2577e-01, -1.5881e-01, -1.0395e-01,  9.7110e-02,\n",
            "       -5.6251e-01, -3.2929e-01, -2.0853e-01,  9.8711e-03,  4.9777e-02,\n",
            "        1.4883e-03,  1.5884e-01,  4.2771e-02, -2.6956e-03, -2.4620e-02,\n",
            "       -1.9213e-01, -2.2556e-01,  1.0838e-01,  9.0086e-02, -1.3291e-01,\n",
            "        3.2559e-01, -1.7038e-01, -1.0990e-01, -2.3986e-01, -2.4289e-02,\n",
            "        1.4656e-02, -2.3700e-01,  8.4828e-02, -3.5982e-01, -7.6746e-02,\n",
            "        4.8909e-02,  1.1431e-01, -2.1013e-01,  2.4765e-01, -1.7531e-02,\n",
            "       -1.4028e-01,  4.6191e-02,  2.2972e-01,  1.1750e-01,  1.2724e-01,\n",
            "        1.2992e-02,  4.5870e-01,  4.1085e-01,  3.9106e-02,  1.5713e-01,\n",
            "       -1.8376e-01,  2.6834e-01,  5.6662e-02,  1.6844e-01, -5.3788e-02,\n",
            "       -9.1892e-02,  1.1193e-01, -8.6810e-02, -1.3324e-01,  1.5062e-01,\n",
            "       -3.1733e-01, -2.2078e-01,  2.5038e-01,  3.4131e-01,  3.6419e-01,\n",
            "       -8.9514e-02, -2.2193e-01,  2.4471e-01,  4.0091e-02,  4.7798e-01,\n",
            "       -2.9996e-02,  1.9212e-03,  6.3511e-02, -2.0417e-01, -2.6478e-01,\n",
            "        2.0649e-01,  1.5573e-02, -2.7722e-01, -1.8861e-01, -1.0289e-01,\n",
            "       -4.9773e-01,  1.4986e-01, -1.0877e-02,  2.5085e-01, -2.8117e-01,\n",
            "        1.8966e-01, -6.5879e-02,  9.4753e-02, -1.5338e-01, -5.5071e-02,\n",
            "       -3.6747e-01,  2.4993e-01,  9.6527e-02,  2.3538e-01,  1.8405e-01,\n",
            "        5.2859e-02,  2.2967e-01,  1.2582e-01,  1.5536e-01, -1.7275e-01,\n",
            "        3.3946e-01, -1.0049e-01,  7.4948e-02, -9.3575e-02, -4.0490e-02,\n",
            "       -1.6922e-02, -5.8039e-03, -1.8108e-01,  1.9537e-01,  4.5178e-01,\n",
            "        1.0965e-01,  2.3370e-01, -9.9050e-02, -7.8633e-02,  2.1678e-01,\n",
            "       -7.1231e-01, -9.9759e-02,  3.3333e-01, -1.6460e-01, -9.1688e-02,\n",
            "        2.1056e-01,  2.3669e-02,  2.8922e-02,  1.1990e-01, -1.2512e-01,\n",
            "       -2.6037e-02, -6.2217e-02,  5.5816e-01,  5.0273e-03, -3.0888e-01,\n",
            "        3.8611e-02,  1.7568e-01, -1.1163e-01, -1.0815e-01, -1.9444e-01,\n",
            "        2.9433e-01,  1.4519e-01, -4.2878e-02,  1.8534e-01,  1.8891e-02,\n",
            "       -6.1883e-01,  1.3352e-01,  3.6007e-02,  3.3995e-01,  2.2109e-01,\n",
            "       -7.9328e-02,  7.1319e-02,  1.7678e-01,  1.6378e-01, -2.3142e-01,\n",
            "       -1.4340e-01, -9.8122e-02, -1.9286e-02,  2.3560e-01, -3.4013e-01,\n",
            "       -6.1007e-02, -2.3208e-01, -3.1152e-01,  1.0063e-01, -1.5957e-01,\n",
            "        2.0183e-01, -1.6345e-02, -1.2303e-01,  2.2667e-02, -2.0986e-01,\n",
            "       -2.0127e-01, -8.7883e-02,  6.4731e-02,  1.0195e-01, -1.7860e-01,\n",
            "        3.3056e-01,  2.1407e-01, -3.2165e-01, -1.7106e-01,  1.9407e-01,\n",
            "       -3.8618e-01, -2.1480e-01, -5.2254e-02,  2.3175e-02,  4.7389e-01,\n",
            "        1.8612e-01,  1.2711e-01,  2.0855e-01, -1.0256e-01, -1.2016e-01,\n",
            "       -4.0488e-01,  2.9695e-02, -2.7419e-02, -8.5227e-03, -1.1415e-01,\n",
            "        8.1134e-02, -1.7228e-01,  1.9142e-01,  2.6514e-02,  4.3789e-02,\n",
            "       -1.2399e-01,  1.3354e-01,  1.0112e-01,  8.1682e-02, -1.5085e-01,\n",
            "        7.5806e-03, -1.8971e-01,  2.4669e-01,  2.2491e-01,  3.5553e-01,\n",
            "       -3.2770e-01, -2.1821e-01,  1.4020e-01,  2.8604e-01,  5.5226e-02,\n",
            "       -8.6544e-02,  2.1110e-02, -1.9236e-01,  7.4245e-02,  7.6782e-02,\n",
            "        8.1666e-04,  3.4097e-02, -5.7719e-01,  1.0657e-01,  2.8134e-01,\n",
            "       -1.1964e-01, -6.8281e-01, -3.2893e-01, -2.4442e-01, -2.5847e-02,\n",
            "        9.1273e-03,  2.0250e-01, -5.0959e-02, -1.1042e-01,  1.0962e-02,\n",
            "        7.6773e-02,  4.0048e-01, -4.0739e-01, -4.4773e-01,  3.1954e-01,\n",
            "       -3.6326e-02, -1.2789e-02, -1.7282e-01,  1.4760e-01,  2.3560e-01,\n",
            "        8.0642e-02, -3.6528e-01, -8.3443e-03,  6.2390e-01, -2.4379e-01,\n",
            "        1.9917e-02, -2.8803e-01, -1.0494e-02,  3.8412e-02, -1.1718e-01,\n",
            "       -7.2462e-02,  1.6381e-01,  3.8488e-01, -2.9783e-02,  2.3444e-01,\n",
            "        4.5320e-01,  1.4815e-01, -2.7021e-02, -7.3181e-02, -1.1470e-01,\n",
            "       -5.4545e-03,  4.7796e-01,  9.0912e-02,  9.4489e-02, -3.6882e-01,\n",
            "       -5.9396e-01, -9.7729e-02,  2.0072e-01,  1.7055e-01, -4.7356e-03,\n",
            "       -3.9709e-02,  3.2498e-01, -2.3452e-02,  1.2302e-01,  3.3120e-01],\n",
            "      dtype=float32)), ('to', array([ 3.1924e-01,  6.3160e-02, -2.7858e-01,  2.6120e-01,  7.9248e-02,\n",
            "       -2.1462e-01, -1.0495e-01,  1.5495e-01, -3.3530e-02,  2.4834e+00,\n",
            "       -5.0904e-01,  8.7490e-02,  2.1426e-01,  2.2151e-01, -2.5234e-01,\n",
            "       -9.7544e-02, -1.9270e-01,  1.3606e+00, -1.1592e-01, -1.0383e-01,\n",
            "        2.1929e-01,  1.1997e-01, -1.1063e-01,  1.4212e-01, -1.6643e-01,\n",
            "        2.1815e-01,  4.2086e-03, -7.0012e-02, -2.3532e-01, -2.6518e-01,\n",
            "        3.1248e-02,  1.6669e-01, -8.9777e-02,  2.0059e-01,  3.1614e-01,\n",
            "       -5.5830e-01,  7.5735e-02,  2.7635e-01,  1.2741e-01, -1.8185e-01,\n",
            "       -1.2722e-01,  2.4686e-02, -7.7233e-02, -4.8998e-01,  2.0355e-02,\n",
            "        3.9164e-03,  1.2150e-01,  8.9723e-02, -7.8975e-02,  8.1443e-02,\n",
            "       -9.9087e-02, -5.5621e-02,  1.0737e-01, -4.4042e-03,  4.8496e-01,\n",
            "        1.1717e-01, -1.7329e-02,  1.0900e-01, -3.5558e-01,  5.1084e-02,\n",
            "        1.5714e-01,  1.7961e-01, -2.9711e-01,  3.3645e-02, -2.5792e-02,\n",
            "       -1.3931e-02, -2.3000e-01, -4.0306e-02,  2.2282e-01, -1.3544e-02,\n",
            "        1.1554e-02,  3.9110e-01,  2.6533e-01, -3.1012e-01,  4.0539e-01,\n",
            "       -4.2975e-02,  2.0811e-02, -3.3033e-01,  1.9573e-01, -3.7958e-02,\n",
            "        1.0274e-01, -1.3581e-03, -4.4505e-01,  7.7886e-02,  8.5110e-02,\n",
            "       -2.0285e-01, -1.9481e-01,  5.6933e-02,  5.3105e-01,  3.4154e-02,\n",
            "       -5.6996e-01, -1.8469e-01,  9.3403e-02,  2.8044e-01, -2.3349e-01,\n",
            "        1.0938e-01, -1.4288e-02, -2.7400e-01,  3.4196e-02, -9.8479e-02,\n",
            "        1.3268e-01,  1.9437e-01,  1.3463e-01, -9.9059e-02,  4.0324e-02,\n",
            "       -6.6272e-01,  3.5710e-01,  1.5429e-01,  1.8598e-01,  8.7542e-02,\n",
            "        8.0538e-02, -2.5121e-01,  2.4155e-01,  1.7830e-01,  3.6011e-02,\n",
            "       -2.7677e-02,  2.1161e-01, -2.9107e-01, -8.3456e-03,  1.1317e-01,\n",
            "        3.1064e-01, -1.0693e-01, -2.7367e-01, -3.9785e-02,  3.9881e-02,\n",
            "        3.4462e-02, -1.6518e-01,  1.6115e-01,  6.0826e-02,  3.0750e-01,\n",
            "       -2.2398e-01,  1.4619e-01, -2.6610e-01,  4.9732e-01, -1.3996e-01,\n",
            "       -2.4287e-01,  3.9469e-02, -8.4495e-02, -2.4315e-01,  7.0701e-02,\n",
            "       -1.0136e+00, -2.1733e-01, -3.6878e-01, -2.4973e-01,  1.7472e-01,\n",
            "       -1.1592e-02,  6.8561e-02, -9.0411e-02,  2.1878e-01, -2.6390e-01,\n",
            "        1.1904e-01,  1.4285e-01, -1.8707e-01, -1.3474e-01, -1.3232e-01,\n",
            "       -2.6553e-01,  2.2947e-01, -1.8215e-02,  6.7383e-03, -1.0190e-01,\n",
            "        1.0053e-01, -1.1270e-01, -1.3295e-01,  1.5951e-01,  1.4906e-01,\n",
            "       -9.5578e-02,  2.6992e-01,  1.1057e-02,  5.6568e-02,  2.1386e-02,\n",
            "        2.0215e-01,  4.8589e-04,  5.3360e-01, -2.2947e-01,  2.9275e-01,\n",
            "        1.7378e-01,  2.5423e-01, -1.0976e-01,  5.8816e-02,  1.4616e-02,\n",
            "       -4.3060e-02,  1.0732e-01, -2.8149e-02, -1.9181e-01,  1.0250e-01,\n",
            "       -6.3892e-02,  1.2737e-02, -1.2913e-01,  1.5037e-02,  2.6562e-01,\n",
            "       -1.7049e-02, -6.0716e-02, -9.4919e-02,  1.7775e-02,  1.3221e-01,\n",
            "        1.6830e-01, -1.9323e-01, -1.7612e-01,  7.5506e-02,  1.8939e-01,\n",
            "        1.2508e-01, -1.9880e-01, -1.6017e-01, -2.1092e-01,  4.6933e-01,\n",
            "        4.4747e-02,  9.8349e-02,  1.1637e-02,  2.2281e-01, -1.0837e-02,\n",
            "       -4.8330e-02, -4.7335e-01, -3.6811e-01, -1.3592e-01, -1.5086e-01,\n",
            "        2.5416e-01,  6.9531e-02,  1.4211e-01, -2.6703e-01, -1.2590e-01,\n",
            "        1.2076e-01, -2.6117e-01,  3.3024e-02, -3.4398e-02, -1.3968e-01,\n",
            "        1.3446e-01, -1.6709e-01,  1.5002e-01, -1.3724e-01,  9.1226e-02,\n",
            "       -2.7718e-01,  2.0098e-02,  2.6919e-01,  4.3016e-01,  9.4019e-02,\n",
            "       -8.5496e-02, -2.5192e-01, -1.1645e-01, -3.9734e-02,  4.6738e-03,\n",
            "        5.4178e-01, -1.6636e-01,  3.4546e-01,  9.8501e-02,  4.7819e-01,\n",
            "       -3.8428e-01, -3.2380e-01, -1.4822e-01, -4.7817e-01,  1.6704e-01,\n",
            "       -6.4505e-02,  1.1834e-01, -3.4480e-01,  9.6891e-02,  3.2309e-01,\n",
            "        4.1471e-01,  1.9463e-01, -2.0891e-01, -1.2223e-01, -5.8298e-02,\n",
            "       -2.0268e-01,  2.9480e-01,  4.3397e-02,  1.0112e-01,  2.7177e-01,\n",
            "       -5.2124e-01, -7.3794e-02,  4.4808e-02,  4.1388e-01,  8.8782e-02,\n",
            "        6.2255e-01, -7.2391e-02,  9.0129e-02,  1.5428e-01,  2.3163e-02,\n",
            "       -1.3028e-01,  6.1762e-02,  3.3803e-01, -9.1581e-02,  2.1039e-01,\n",
            "        5.1080e-02,  1.9184e-01,  1.0444e-01,  2.1380e-01, -3.5091e-01,\n",
            "       -2.3702e-01,  3.8399e-02, -1.0031e-01,  1.8359e-01,  2.5178e-02,\n",
            "       -1.2977e-01,  3.7130e-01,  1.8888e-01, -4.2738e-03, -1.0645e-01,\n",
            "       -2.5810e-01, -4.4629e-02,  8.2745e-02,  9.7801e-02,  2.5045e-01],\n",
            "      dtype=float32))]\n"
          ]
        }
      ],
      "source": [
        "tokenizer = Tokenizer(num_words=max_features)\n",
        "tokenizer.fit_on_texts(list(train_sentences))\n",
        "\n",
        "tokenized_train_sentences = tokenizer.texts_to_sequences(train)\n",
        "tokenized_test_sentences = tokenizer.texts_to_sequences(test)\n",
        "\n",
        "train_padding = pad_sequences(tokenized_train_sentences, maxlen)\n",
        "test_padding = pad_sequences(tokenized_test_sentences, maxlen)\n",
        "\n",
        "def get_coefs(word, *arr): return word, np.asarray(arr, dtype='float32')\n",
        "embeddings_index = dict(get_coefs(*o.rstrip().rsplit(' ')) for o in open(EMBEDDING_FILE, encoding='utf8'))\n",
        "\n",
        "print(list(embeddings_index.items())[:5])"
      ]
    },
    {
      "cell_type": "code",
      "execution_count": null,
      "metadata": {
        "colab": {
          "base_uri": "https://localhost:8080/"
        },
        "id": "3FXbqdDdH2O5",
        "outputId": "bb95f5a4-8b57-4075-c4e8-a2765978eaad"
      },
      "outputs": [
        {
          "output_type": "execute_result",
          "data": {
            "text/plain": [
              "300"
            ]
          },
          "metadata": {},
          "execution_count": 77
        }
      ],
      "source": [
        "len(embeddings_index.get('society'))"
      ]
    },
    {
      "cell_type": "code",
      "execution_count": null,
      "metadata": {
        "colab": {
          "base_uri": "https://localhost:8080/"
        },
        "id": "7JtsYXYgHXV5",
        "outputId": "2550ede4-6b58-4aff-f850-4e7306407775"
      },
      "outputs": [
        {
          "output_type": "execute_result",
          "data": {
            "text/plain": [
              "array([[ 0.        ,  0.        ,  0.        , ...,  0.        ,\n",
              "         0.        ,  0.        ],\n",
              "       [ 0.27204001, -0.06203   , -0.1884    , ...,  0.13015001,\n",
              "        -0.18317001,  0.1323    ],\n",
              "       [ 0.31924   ,  0.06316   , -0.27858001, ...,  0.082745  ,\n",
              "         0.097801  ,  0.25044999],\n",
              "       [ 0.043798  ,  0.024779  , -0.20937   , ..., -0.30098999,\n",
              "        -0.14584   ,  0.28187999],\n",
              "       [-0.18567   ,  0.066008  , -0.25209001, ..., -0.023452  ,\n",
              "         0.12302   ,  0.3312    ]])"
            ]
          },
          "metadata": {},
          "execution_count": 78
        }
      ],
      "source": [
        "word_index = tokenizer.word_index\n",
        "nb_words = min(max_features, len(word_index))\n",
        "embedding_matrix = np.zeros((nb_words, embed_size))\n",
        "for word, i in word_index.items():\n",
        "    if i >= max_features:\n",
        "        continue\n",
        "    embedding_vector = embeddings_index.get(word)\n",
        "    if embedding_vector is not None:\n",
        "        embedding_matrix[i] = embedding_vector\n",
        "\n",
        "embedding_matrix[:5]"
      ]
    },
    {
      "cell_type": "code",
      "execution_count": null,
      "metadata": {
        "colab": {
          "base_uri": "https://localhost:8080/"
        },
        "id": "q2wdBZkUXXcX",
        "outputId": "51330c43-e737-4676-aab6-a8d91f89b575"
      },
      "outputs": [
        {
          "output_type": "execute_result",
          "data": {
            "text/plain": [
              "(20000, 300)"
            ]
          },
          "metadata": {},
          "execution_count": 79
        }
      ],
      "source": [
        "embedding_matrix.shape"
      ]
    },
    {
      "cell_type": "code",
      "execution_count": null,
      "metadata": {
        "colab": {
          "base_uri": "https://localhost:8080/"
        },
        "id": "NCce4Qc4YdDJ",
        "outputId": "44c8b4a3-e78d-4d8b-8097-2ffb5ec33d7f"
      },
      "outputs": [
        {
          "output_type": "stream",
          "name": "stdout",
          "text": [
            "Model: \"model_1\"\n",
            "_________________________________________________________________\n",
            " Layer (type)                Output Shape              Param #   \n",
            "=================================================================\n",
            " input_2 (InputLayer)        [(None, 300)]             0         \n",
            "                                                                 \n",
            " embedding_1 (Embedding)     (None, 300, 300)          6000000   \n",
            "                                                                 \n",
            " flatten_1 (Flatten)         (None, 90000)             0         \n",
            "                                                                 \n",
            " dense_5 (Dense)             (None, 32)                2880032   \n",
            "                                                                 \n",
            " dense_6 (Dense)             (None, 64)                2112      \n",
            "                                                                 \n",
            " dense_7 (Dense)             (None, 128)               8320      \n",
            "                                                                 \n",
            " dropout_1 (Dropout)         (None, 128)               0         \n",
            "                                                                 \n",
            " dense_8 (Dense)             (None, 256)               33024     \n",
            "                                                                 \n",
            " dense_9 (Dense)             (None, 6)                 1542      \n",
            "                                                                 \n",
            "=================================================================\n",
            "Total params: 8,925,030\n",
            "Trainable params: 8,925,030\n",
            "Non-trainable params: 0\n",
            "_________________________________________________________________\n",
            "None\n",
            "Training model...\n",
            "Epoch 1/4\n",
            "801/890 [==========================>...] - ETA: 13s - loss: 0.2401 - acc: 0.8805"
          ]
        }
      ],
      "source": [
        "kfold = KFold(n_splits=3)\n",
        "cvscores = []\n",
        "accscores = []\n",
        "rocscores = []\n",
        "\n",
        "for train, test in kfold.split(train_padding, y):\n",
        "    \n",
        "    inputs = Input(shape=(maxlen,))\n",
        "    x = Embedding(max_features, embed_size, weights=[embedding_matrix])(inputs)\n",
        "    x = Flatten()(x)\n",
        "    x = Dense(32, activation='relu')(x)\n",
        "    x = Dense(64, activation='relu')(x)\n",
        "    x = Dense(128, activation='relu')(x)\n",
        "    x = Dropout(0.2)(x)\n",
        "    x = Dense(256, activation='relu')(x)\n",
        "    output = Dense(6, activation='sigmoid')(x)\n",
        "    model = Model(inputs=inputs, outputs=output)\n",
        "    model.compile(loss='binary_crossentropy', optimizer='adam', metrics=['acc'])\n",
        "    print(model.summary())\n",
        "\n",
        "    saved_model = \"model.hdf5\"\n",
        "    checkpoint = ModelCheckpoint(saved_model, monitor='val_acc', verbose=1, save_best_only=True, mode='max')\n",
        "\n",
        "    print('Training model...')\n",
        "    history = model.fit(train_padding, y, batch_size=32, epochs=4, callbacks=[checkpoint], validation_split=0.1)\n",
        "\n",
        "    scores = model.evaluate(train_padding[test], y[test])\n",
        "    print(\"%s: %.2f%%\" % (model.metrics_names[1], scores[1]*100))\n",
        "    cvscores.append(scores[1] * 100)\n",
        "\n",
        "    print(\"Loading model....\")\n",
        "    model = load_model('w2vPP.hdf5')\n",
        "    y_pred = model.predict(test_padding)\n",
        "\n",
        "    y_int = np.zeros_like(y_pred)\n",
        "    y_int[y_pred > 0.5] = 1\n",
        "\n",
        "    accuracy = accuracy_score(y_test,y_int)\n",
        "    print('Accuracy is {}'.format(accuracy))\n",
        "    accscores.append(accuracy)\n",
        "    \n",
        "    rocauc = roc_auc_score(y_test, y_pred)\n",
        "    print('Roc-auc score is {}'.format(rocauc))\n",
        "    rocscores.append(rocauc)\n",
        "    \n",
        "    print('Classification report {}'.format(classification_report(y_test, y_int, zero_division=0)))\n",
        "    print('Confusion matrix {}'.format(multilabel_confusion_matrix(y_test, y_int)))\n",
        "        \n",
        "print(\"%.2f%% (+/- %.2f%%)\" % (np.mean(cvscores), np.std(cvscores)))\n",
        "print(\"Test accuracy is: {} %.2f (+/- %.2f)\" %  (np.mean(accscores), np.std(accscores)))\n",
        "print(\"Test roc-auc is: {} %.2f (+/- %.2f)\" % (np.mean(rocscores), np.std(rocscores)))"
      ]
    }
  ],
  "metadata": {
    "colab": {
      "provenance": []
    },
    "kernelspec": {
      "display_name": "Python 3",
      "name": "python3"
    },
    "language_info": {
      "name": "python"
    }
  },
  "nbformat": 4,
  "nbformat_minor": 0
}